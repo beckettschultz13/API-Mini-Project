{
 "cells": [
  {
   "cell_type": "markdown",
   "metadata": {},
   "source": [
    "This exercise will require you to pull some data from https://data.nasdaq.com/ (formerly Quandl API)."
   ]
  },
  {
   "cell_type": "markdown",
   "metadata": {},
   "source": [
    "As a first step, you will need to register a free account on the https://data.nasdaq.com/ website."
   ]
  },
  {
   "cell_type": "markdown",
   "metadata": {},
   "source": [
    "After you register, you will be provided with a unique API key, that you should store:\r\n",
    "\r\n",
    "*Note*: Use a `.env` file and put your key in there and `python-dotenv` to access it in this notebook. \r\n",
    "\r\n",
    "The code below uses a key that was used when generating this project but has since been deleted. Never submit your keys to source control. There is a `.env-example` file in this repository to illusrtate what you need. Copy that to a file called `.env` and use your own api key in that `.env` file. Make sure you also have a `.gitignore` file with a line for `.env` added to it. \r\n",
    "\r\n",
    "The standard Python gitignore is [here](https://github.com/github/gitignore/blob/master/Python.gitignore) you can just copy that. "
   ]
  },
  {
   "cell_type": "code",
   "execution_count": 4,
   "metadata": {},
   "outputs": [],
   "source": [
    "# get api key from your .env file\n",
    "import os\n",
    "from dotenv import load_dotenv\n",
    "from pathlib import Path\n",
    "\n",
    "dotenv_path = Path(r\"C:\\Users\\becke\\OneDrive\\Documents\\Jupyter Notebooks\\Notes\\Basics\\Requests\\key.env\")\n",
    "load_dotenv(dotenv_path=dotenv_path)\n",
    "API_KEY = os.getenv('NASDAQ_API_KEY')"
   ]
  },
  {
   "cell_type": "markdown",
   "metadata": {},
   "source": [
    "Nasdaq Data has a large number of data sources, but, unfortunately, most of them require a Premium subscription. Still, there are also a good number of free datasets."
   ]
  },
  {
   "cell_type": "markdown",
   "metadata": {},
   "source": [
    "For this mini project, we will focus on equities data from the Frankfurt Stock Exhange (FSE), which is available for free. We'll try and analyze the stock prices of a company called Carl Zeiss Meditec, which manufactures tools for eye examinations, as well as medical lasers for laser eye surgery: https://www.zeiss.com/meditec/int/home.html. The company is listed under the stock ticker AFX_X."
   ]
  },
  {
   "cell_type": "markdown",
   "metadata": {},
   "source": [
    "You can find the detailed Nasdaq Data API instructions here: https://docs.data.nasdaq.com/docs/in-depth-usage"
   ]
  },
  {
   "cell_type": "markdown",
   "metadata": {},
   "source": [
    "While there is a dedicated Python package for connecting to the Nasdaq API, we would prefer that you use the *requests* package, which can be easily downloaded using *pip* or *conda*. You can find the documentation for the package here: http://docs.python-requests.org/en/master/ "
   ]
  },
  {
   "cell_type": "markdown",
   "metadata": {},
   "source": [
    "Finally, apart from the *requests* package, you are encouraged to not use any third party Python packages, such as *pandas*, and instead focus on what's available in the Python Standard Library (the *collections* module might come in handy: https://pymotw.com/3/collections/).\n",
    "Also, since you won't have access to DataFrames, you are encouraged to us Python's native data structures - preferably dictionaries, though some questions can also be answered using lists.\n",
    "You can read more on these data structures here: https://docs.python.org/3/tutorial/datastructures.html"
   ]
  },
  {
   "cell_type": "markdown",
   "metadata": {},
   "source": [
    "Keep in mind that the JSON responses you will be getting from the API map almost one-to-one to Python's dictionaries. Unfortunately, they can be very nested, so make sure you read up on indexing dictionaries in the documentation provided above."
   ]
  },
  {
   "cell_type": "code",
   "execution_count": 11,
   "metadata": {},
   "outputs": [],
   "source": [
    "# First, import the relevant modules\n",
    "import requests"
   ]
  },
  {
   "cell_type": "markdown",
   "metadata": {},
   "source": [
    "Note: API's can change a bit with each version, for this exercise it is reccomended to use the nasdaq api at `https://data.nasdaq.com/api/v3/`. This is the same api as what used to be quandl so `https://www.quandl.com/api/v3/` should work too.\r\n",
    "\r\n",
    "Hint: We are looking for the `AFX_X` data on the `datasets/FSE/` dataset."
   ]
  },
  {
   "cell_type": "code",
   "execution_count": 13,
   "metadata": {},
   "outputs": [],
   "source": [
    "# Now, call the Nasdaq API and pull out a small sample of the data (only one day) to get a glimpse\n",
    "# into the JSON structure that will be returned\n",
    "\n",
    "url = f\"https://data.nasdaq.com/api/v3/datasets/FSE/AFX_X.json?api_key={API_KEY}\"\n",
    "r = requests.get(url)\n",
    "json_data = r.json()"
   ]
  },
  {
   "cell_type": "code",
   "execution_count": 14,
   "metadata": {
    "scrolled": true
   },
   "outputs": [],
   "source": [
    "# Inspect the JSON structure of the object you created, and take note of how nested it is,\n",
    "# as well as the overall structure\n",
    "\n",
    "# for k, v in json_data.items():\n",
    "    # print(k, v)"
   ]
  },
  {
   "cell_type": "markdown",
   "metadata": {},
   "source": [
    "These are your tasks for this mini project:\n",
    "\n",
    "1. Collect data from the Franfurt Stock Exchange, for the ticker AFX_X, for the whole year 2017 (keep in mind that the date format is YYYY-MM-DD).\n",
    "2. Convert the returned JSON object into a Python dictionary.\n",
    "3. Calculate what the highest and lowest opening prices were for the stock in this period.\n",
    "4. What was the largest change in any one day (based on High and Low price)?\n",
    "5. What was the largest change between any two days (based on Closing Price)?\n",
    "6. What was the average daily trading volume during this year?\n",
    "7. (Optional) What was the median trading volume during this year. (Note: you may need to implement your own function for calculating the median.)"
   ]
  },
  {
   "cell_type": "code",
   "execution_count": 16,
   "metadata": {},
   "outputs": [],
   "source": [
    "# Task 1\n",
    "# Collecting data from FSE for ticker 'AFX_X' for 2017\n",
    "url = f\"https://data.nasdaq.com/api/v3/datasets/FSE/AFX_X.json?start_date=2017-01-01&end_date=2017-12-31&api_key={API_KEY}\"\n",
    "r = requests.get(url)\n",
    "json_data = r.json()"
   ]
  },
  {
   "cell_type": "code",
   "execution_count": 17,
   "metadata": {
    "scrolled": true
   },
   "outputs": [],
   "source": [
    "# Task 2\n",
    "# Converting JSON object into dictionary using definition\n",
    "def headers(json):\n",
    "    for k, v in json.items():\n",
    "        return v\n"
   ]
  },
  {
   "cell_type": "code",
   "execution_count": 18,
   "metadata": {},
   "outputs": [
    {
     "data": {
      "text/plain": [
       "[(0, 'Date'),\n",
       " (1, 'Open'),\n",
       " (2, 'High'),\n",
       " (3, 'Low'),\n",
       " (4, 'Close'),\n",
       " (5, 'Change'),\n",
       " (6, 'Traded Volume'),\n",
       " (7, 'Turnover'),\n",
       " (8, 'Last Price of the Day'),\n",
       " (9, 'Daily Traded Units'),\n",
       " (10, 'Daily Turnover')]"
      ]
     },
     "execution_count": 18,
     "metadata": {},
     "output_type": "execute_result"
    }
   ],
   "source": [
    "# Task 3\n",
    "# Finding index for column of interest in our data\n",
    "json = headers(json_data)\n",
    "[*enumerate(json['column_names'])]"
   ]
  },
  {
   "cell_type": "code",
   "execution_count": 19,
   "metadata": {},
   "outputs": [],
   "source": [
    "# Setting index value and creating definition to extract prices\n",
    "open = 1\n",
    "json = headers(json_data)\n",
    "\n",
    "def open_prices(json):\n",
    "    prices = []\n",
    "    for data in json['data']:\n",
    "        price = data[open]\n",
    "        if type(price) == float:\n",
    "            prices.append(price)\n",
    "    return prices\n",
    "\n",
    "open_prices = [price for price in open_prices(json)]"
   ]
  },
  {
   "cell_type": "code",
   "execution_count": 20,
   "metadata": {},
   "outputs": [
    {
     "name": "stdout",
     "output_type": "stream",
     "text": [
      "The highest price of the stock in this period was: 53.11\n",
      "The lowest price of the stock in this period was: 34.0\n"
     ]
    }
   ],
   "source": [
    "# Highest and lowest opening prices\n",
    "max_price = max(open_prices)\n",
    "min_price = min(open_prices)\n",
    "print(f\"The highest price of the stock in this period was: {max_price}\")\n",
    "print(f\"The lowest price of the stock in this period was: {min_price}\")"
   ]
  },
  {
   "cell_type": "code",
   "execution_count": 21,
   "metadata": {},
   "outputs": [],
   "source": [
    "# Task 4\n",
    "# Setting index values\n",
    "# Creating defintion to extract high and low prices while also finding their difference\n",
    "high = 2\n",
    "low = 3\n",
    "json = headers(json_data)\n",
    "\n",
    "def change_high_low(json):\n",
    "    changes = []\n",
    "    for data in json['data']:\n",
    "        high_price = data[high]\n",
    "        low_price = data[low]\n",
    "        change = high_price - low_price\n",
    "        changes.append(change)\n",
    "    return changes\n",
    "\n",
    "change_high_low = [change for change in change_high_low(json)]"
   ]
  },
  {
   "cell_type": "code",
   "execution_count": 22,
   "metadata": {},
   "outputs": [
    {
     "name": "stdout",
     "output_type": "stream",
     "text": [
      "The largest change in one day (based on High and Low price) was: 2.8100000000000023\n"
     ]
    }
   ],
   "source": [
    "# Largest change in one day\n",
    "max_change = max(change_high_low)\n",
    "print(f\"The largest change in one day (based on High and Low price) was: {max_change}\")"
   ]
  },
  {
   "cell_type": "code",
   "execution_count": 23,
   "metadata": {},
   "outputs": [],
   "source": [
    "# Task 5\n",
    "# Setting index value\n",
    "# Creating definitions to extract prices and calculate changes\n",
    "close = 4\n",
    "json = headers(json_data)\n",
    "\n",
    "def closing_prices(json):\n",
    "    prices = []\n",
    "    for data in json['data']:\n",
    "        price = data[close]\n",
    "        prices.append(price)\n",
    "    return prices\n",
    "\n",
    "closing_prices = [price for price in closing_prices(json)]\n",
    "index1 = [*range(len(closing_prices)-1)]\n",
    "index2 = [*range(1, len(closing_prices))]\n",
    "\n",
    "def price_deltas(prices):\n",
    "    deltas = []\n",
    "    for i1, i2 in zip(index1, index2):\n",
    "        delta = abs(prices[i1] - prices[i2])\n",
    "        deltas.append(delta)\n",
    "    return deltas\n",
    "\n",
    "price_deltas = price_deltas(closing_prices)"
   ]
  },
  {
   "cell_type": "code",
   "execution_count": 24,
   "metadata": {},
   "outputs": [
    {
     "name": "stdout",
     "output_type": "stream",
     "text": [
      "The largest change between any two days (based on Closing price) was: 2.559999999999995\n"
     ]
    }
   ],
   "source": [
    "# Largest change between any two days\n",
    "max_delta = max(price_deltas)\n",
    "print(f\"The largest change between any two days (based on Closing price) was: {max_delta}\")"
   ]
  },
  {
   "cell_type": "code",
   "execution_count": 25,
   "metadata": {},
   "outputs": [
    {
     "name": "stdout",
     "output_type": "stream",
     "text": [
      "The average daily trading volume during this year was: 89124.33725490196\n"
     ]
    }
   ],
   "source": [
    "# Task 6\n",
    "# Setting index value\n",
    "# Creating definition to extract volumes and calculate mean\n",
    "traded_volume = 6\n",
    "json = headers(json_data)\n",
    "\n",
    "def trading_volume(json):\n",
    "    volumes = []\n",
    "    for data in json['data']:\n",
    "        volume = data[traded_volume]\n",
    "        volumes.append(volume)\n",
    "    return volumes\n",
    "\n",
    "# What was the average daily trading volume during this year?\n",
    "trading_volume = trading_volume(json)\n",
    "print(f\"The average daily trading volume during this year was: {sum(trading_volume) / len(trading_volume)}\")"
   ]
  },
  {
   "cell_type": "code",
   "execution_count": 26,
   "metadata": {},
   "outputs": [],
   "source": [
    "# Task 7\n",
    "trading_volume = sorted(trading_volume)\n",
    "median = trading_volume[len(trading_volume)//2]"
   ]
  },
  {
   "cell_type": "code",
   "execution_count": 27,
   "metadata": {},
   "outputs": [
    {
     "name": "stdout",
     "output_type": "stream",
     "text": [
      "The median trading volume during this year was: 76286.0\n"
     ]
    }
   ],
   "source": [
    "# Median trading volume\n",
    "print(f\"The median trading volume during this year was: {median}\")"
   ]
  }
 ],
 "metadata": {
  "interpreter": {
   "hash": "7635eb1b9d0fe97add78a7368b6b431c09bb8ad5c42e437d64abdd99821c31ae"
  },
  "kernelspec": {
   "display_name": "Python 3 (ipykernel)",
   "language": "python",
   "name": "python3"
  },
  "language_info": {
   "codemirror_mode": {
    "name": "ipython",
    "version": 3
   },
   "file_extension": ".py",
   "mimetype": "text/x-python",
   "name": "python",
   "nbconvert_exporter": "python",
   "pygments_lexer": "ipython3",
   "version": "3.11.7"
  }
 },
 "nbformat": 4,
 "nbformat_minor": 4
}
